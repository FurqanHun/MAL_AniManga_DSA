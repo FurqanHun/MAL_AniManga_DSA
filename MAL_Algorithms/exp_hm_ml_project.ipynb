{
 "cells": [
  {
   "cell_type": "code",
   "execution_count": 2,
   "metadata": {},
   "outputs": [],
   "source": [
    "import pandas as pd\n",
    "import re\n",
    "\n",
    "import matplotlib as plt\n",
    "\n",
    "from sklearn.model_selection import train_test_split\n",
    "from sklearn.metrics import confusion_matrix, classification_report, f1_score"
   ]
  },
  {
   "cell_type": "code",
   "execution_count": 3,
   "metadata": {},
   "outputs": [
    {
     "data": {
      "text/html": [
       "<div>\n",
       "<style scoped>\n",
       "    .dataframe tbody tr th:only-of-type {\n",
       "        vertical-align: middle;\n",
       "    }\n",
       "\n",
       "    .dataframe tbody tr th {\n",
       "        vertical-align: top;\n",
       "    }\n",
       "\n",
       "    .dataframe thead th {\n",
       "        text-align: right;\n",
       "    }\n",
       "</style>\n",
       "<table border=\"1\" class=\"dataframe\">\n",
       "  <thead>\n",
       "    <tr style=\"text-align: right;\">\n",
       "      <th></th>\n",
       "      <th>Title</th>\n",
       "      <th>Type</th>\n",
       "      <th>Score</th>\n",
       "      <th>Score Count</th>\n",
       "      <th>Members</th>\n",
       "      <th>Rank</th>\n",
       "      <th>Popularity</th>\n",
       "      <th>Genres</th>\n",
       "      <th>Authors/Studio</th>\n",
       "      <th>Synopsis</th>\n",
       "      <th>Link</th>\n",
       "      <th>Date</th>\n",
       "      <th>Page</th>\n",
       "    </tr>\n",
       "  </thead>\n",
       "  <tbody>\n",
       "    <tr>\n",
       "      <th>0</th>\n",
       "      <td>Berserk</td>\n",
       "      <td>Manga</td>\n",
       "      <td>9.47</td>\n",
       "      <td>329632</td>\n",
       "      <td>662227</td>\n",
       "      <td>1</td>\n",
       "      <td>1</td>\n",
       "      <td>Action, Adventure, Award Winning, Drama, Fanta...</td>\n",
       "      <td>Miura, Kentarou (Story &amp; Art), Studio Gaga (Art)</td>\n",
       "      <td>Guts, a former mercenary now known as the \"Bla...</td>\n",
       "      <td>https://myanimelist.net/manga/2/Berserk</td>\n",
       "      <td>15-11-2023</td>\n",
       "      <td>Top Manga</td>\n",
       "    </tr>\n",
       "    <tr>\n",
       "      <th>1</th>\n",
       "      <td>JoJo no Kimyou na Bouken Part 7: Steel Ball Run</td>\n",
       "      <td>Manga</td>\n",
       "      <td>9.30</td>\n",
       "      <td>155665</td>\n",
       "      <td>255066</td>\n",
       "      <td>2</td>\n",
       "      <td>26</td>\n",
       "      <td>Action, Adventure, Mystery, Supernatural, Hist...</td>\n",
       "      <td>Araki, Hirohiko (Story &amp; Art)</td>\n",
       "      <td>In the American Old West, the world's greatest...</td>\n",
       "      <td>https://myanimelist.net/manga/1706/JoJo_no_Kim...</td>\n",
       "      <td>15-11-2023</td>\n",
       "      <td>Top Manga</td>\n",
       "    </tr>\n",
       "    <tr>\n",
       "      <th>2</th>\n",
       "      <td>Vagabond</td>\n",
       "      <td>Manga</td>\n",
       "      <td>9.24</td>\n",
       "      <td>135419</td>\n",
       "      <td>362718</td>\n",
       "      <td>3</td>\n",
       "      <td>15</td>\n",
       "      <td>Action, Adventure, Award Winning, Historical, ...</td>\n",
       "      <td>Inoue, Takehiko (Story &amp; Art), Yoshikawa, Eiji...</td>\n",
       "      <td>In 16th-century Japan, Shinmen Takezou is a wi...</td>\n",
       "      <td>https://myanimelist.net/manga/656/Vagabond</td>\n",
       "      <td>15-11-2023</td>\n",
       "      <td>Top Manga</td>\n",
       "    </tr>\n",
       "    <tr>\n",
       "      <th>3</th>\n",
       "      <td>One Piece</td>\n",
       "      <td>Manga</td>\n",
       "      <td>9.22</td>\n",
       "      <td>365241</td>\n",
       "      <td>596855</td>\n",
       "      <td>4</td>\n",
       "      <td>3</td>\n",
       "      <td>Action, Adventure, Fantasy, Shounen</td>\n",
       "      <td>Oda, Eiichiro (Story &amp; Art)</td>\n",
       "      <td>Gol D. Roger, a man referred to as the \"King o...</td>\n",
       "      <td>https://myanimelist.net/manga/13/One_Piece</td>\n",
       "      <td>15-11-2023</td>\n",
       "      <td>Top Manga</td>\n",
       "    </tr>\n",
       "    <tr>\n",
       "      <th>4</th>\n",
       "      <td>Monster</td>\n",
       "      <td>Manga</td>\n",
       "      <td>9.15</td>\n",
       "      <td>93420</td>\n",
       "      <td>235224</td>\n",
       "      <td>5</td>\n",
       "      <td>29</td>\n",
       "      <td>Award Winning, Drama, Mystery, Adult Cast, Psy...</td>\n",
       "      <td>Urasawa, Naoki (Story &amp; Art)</td>\n",
       "      <td>Kenzou Tenma, a renowned Japanese neurosurgeon...</td>\n",
       "      <td>https://myanimelist.net/manga/1/Monster</td>\n",
       "      <td>15-11-2023</td>\n",
       "      <td>Top Manga</td>\n",
       "    </tr>\n",
       "  </tbody>\n",
       "</table>\n",
       "</div>"
      ],
      "text/plain": [
       "                                             Title   Type  Score  Score Count  \\\n",
       "0                                          Berserk  Manga   9.47       329632   \n",
       "1  JoJo no Kimyou na Bouken Part 7: Steel Ball Run  Manga   9.30       155665   \n",
       "2                                         Vagabond  Manga   9.24       135419   \n",
       "3                                        One Piece  Manga   9.22       365241   \n",
       "4                                          Monster  Manga   9.15        93420   \n",
       "\n",
       "   Members  Rank  Popularity  \\\n",
       "0   662227     1           1   \n",
       "1   255066     2          26   \n",
       "2   362718     3          15   \n",
       "3   596855     4           3   \n",
       "4   235224     5          29   \n",
       "\n",
       "                                              Genres  \\\n",
       "0  Action, Adventure, Award Winning, Drama, Fanta...   \n",
       "1  Action, Adventure, Mystery, Supernatural, Hist...   \n",
       "2  Action, Adventure, Award Winning, Historical, ...   \n",
       "3                Action, Adventure, Fantasy, Shounen   \n",
       "4  Award Winning, Drama, Mystery, Adult Cast, Psy...   \n",
       "\n",
       "                                      Authors/Studio  \\\n",
       "0   Miura, Kentarou (Story & Art), Studio Gaga (Art)   \n",
       "1                      Araki, Hirohiko (Story & Art)   \n",
       "2  Inoue, Takehiko (Story & Art), Yoshikawa, Eiji...   \n",
       "3                        Oda, Eiichiro (Story & Art)   \n",
       "4                       Urasawa, Naoki (Story & Art)   \n",
       "\n",
       "                                            Synopsis  \\\n",
       "0  Guts, a former mercenary now known as the \"Bla...   \n",
       "1  In the American Old West, the world's greatest...   \n",
       "2  In 16th-century Japan, Shinmen Takezou is a wi...   \n",
       "3  Gol D. Roger, a man referred to as the \"King o...   \n",
       "4  Kenzou Tenma, a renowned Japanese neurosurgeon...   \n",
       "\n",
       "                                                Link        Date       Page  \n",
       "0            https://myanimelist.net/manga/2/Berserk  15-11-2023  Top Manga  \n",
       "1  https://myanimelist.net/manga/1706/JoJo_no_Kim...  15-11-2023  Top Manga  \n",
       "2         https://myanimelist.net/manga/656/Vagabond  15-11-2023  Top Manga  \n",
       "3         https://myanimelist.net/manga/13/One_Piece  15-11-2023  Top Manga  \n",
       "4            https://myanimelist.net/manga/1/Monster  15-11-2023  Top Manga  "
      ]
     },
     "execution_count": 3,
     "metadata": {},
     "output_type": "execute_result"
    }
   ],
   "source": [
    "data_set = pd.read_csv('mal_dataset.csv')\n",
    "data_set.head()"
   ]
  },
  {
   "cell_type": "code",
   "execution_count": 4,
   "metadata": {},
   "outputs": [
    {
     "data": {
      "text/html": [
       "<div>\n",
       "<style scoped>\n",
       "    .dataframe tbody tr th:only-of-type {\n",
       "        vertical-align: middle;\n",
       "    }\n",
       "\n",
       "    .dataframe tbody tr th {\n",
       "        vertical-align: top;\n",
       "    }\n",
       "\n",
       "    .dataframe thead th {\n",
       "        text-align: right;\n",
       "    }\n",
       "</style>\n",
       "<table border=\"1\" class=\"dataframe\">\n",
       "  <thead>\n",
       "    <tr style=\"text-align: right;\">\n",
       "      <th></th>\n",
       "      <th>Title</th>\n",
       "      <th>Type</th>\n",
       "      <th>Score</th>\n",
       "      <th>Score Count</th>\n",
       "      <th>Members</th>\n",
       "      <th>Rank</th>\n",
       "      <th>Popularity</th>\n",
       "      <th>Genres</th>\n",
       "      <th>Authors/Studio</th>\n",
       "      <th>Synopsis</th>\n",
       "      <th>Link</th>\n",
       "      <th>Date</th>\n",
       "      <th>Page</th>\n",
       "    </tr>\n",
       "  </thead>\n",
       "  <tbody>\n",
       "    <tr>\n",
       "      <th>0</th>\n",
       "      <td>Berserk</td>\n",
       "      <td>Manga</td>\n",
       "      <td>9.47</td>\n",
       "      <td>329632</td>\n",
       "      <td>662227</td>\n",
       "      <td>1</td>\n",
       "      <td>1</td>\n",
       "      <td>Action, Adventure, Award Winning, Drama, Fanta...</td>\n",
       "      <td>Miura, Kentarou (Story &amp; Art), Studio Gaga (Art)</td>\n",
       "      <td>Guts, a former mercenary now known as the \"Bla...</td>\n",
       "      <td>https://myanimelist.net/manga/2/Berserk</td>\n",
       "      <td>15-11-2023</td>\n",
       "      <td>Top Manga</td>\n",
       "    </tr>\n",
       "    <tr>\n",
       "      <th>1</th>\n",
       "      <td>JoJo no Kimyou na Bouken Part 7: Steel Ball Run</td>\n",
       "      <td>Manga</td>\n",
       "      <td>9.30</td>\n",
       "      <td>155665</td>\n",
       "      <td>255066</td>\n",
       "      <td>2</td>\n",
       "      <td>26</td>\n",
       "      <td>Action, Adventure, Mystery, Supernatural, Hist...</td>\n",
       "      <td>Araki, Hirohiko (Story &amp; Art)</td>\n",
       "      <td>In the American Old West, the world's greatest...</td>\n",
       "      <td>https://myanimelist.net/manga/1706/JoJo_no_Kim...</td>\n",
       "      <td>15-11-2023</td>\n",
       "      <td>Top Manga</td>\n",
       "    </tr>\n",
       "    <tr>\n",
       "      <th>2</th>\n",
       "      <td>Vagabond</td>\n",
       "      <td>Manga</td>\n",
       "      <td>9.24</td>\n",
       "      <td>135419</td>\n",
       "      <td>362718</td>\n",
       "      <td>3</td>\n",
       "      <td>15</td>\n",
       "      <td>Action, Adventure, Award Winning, Historical, ...</td>\n",
       "      <td>Inoue, Takehiko (Story &amp; Art), Yoshikawa, Eiji...</td>\n",
       "      <td>In 16th-century Japan, Shinmen Takezou is a wi...</td>\n",
       "      <td>https://myanimelist.net/manga/656/Vagabond</td>\n",
       "      <td>15-11-2023</td>\n",
       "      <td>Top Manga</td>\n",
       "    </tr>\n",
       "    <tr>\n",
       "      <th>3</th>\n",
       "      <td>One Piece</td>\n",
       "      <td>Manga</td>\n",
       "      <td>9.22</td>\n",
       "      <td>365241</td>\n",
       "      <td>596855</td>\n",
       "      <td>4</td>\n",
       "      <td>3</td>\n",
       "      <td>Action, Adventure, Fantasy, Shounen</td>\n",
       "      <td>Oda, Eiichiro (Story &amp; Art)</td>\n",
       "      <td>Gol D. Roger, a man referred to as the \"King o...</td>\n",
       "      <td>https://myanimelist.net/manga/13/One_Piece</td>\n",
       "      <td>15-11-2023</td>\n",
       "      <td>Top Manga</td>\n",
       "    </tr>\n",
       "    <tr>\n",
       "      <th>4</th>\n",
       "      <td>Monster</td>\n",
       "      <td>Manga</td>\n",
       "      <td>9.15</td>\n",
       "      <td>93420</td>\n",
       "      <td>235224</td>\n",
       "      <td>5</td>\n",
       "      <td>29</td>\n",
       "      <td>Award Winning, Drama, Mystery, Adult Cast, Psy...</td>\n",
       "      <td>Urasawa, Naoki (Story &amp; Art)</td>\n",
       "      <td>Kenzou Tenma, a renowned Japanese neurosurgeon...</td>\n",
       "      <td>https://myanimelist.net/manga/1/Monster</td>\n",
       "      <td>15-11-2023</td>\n",
       "      <td>Top Manga</td>\n",
       "    </tr>\n",
       "    <tr>\n",
       "      <th>...</th>\n",
       "      <td>...</td>\n",
       "      <td>...</td>\n",
       "      <td>...</td>\n",
       "      <td>...</td>\n",
       "      <td>...</td>\n",
       "      <td>...</td>\n",
       "      <td>...</td>\n",
       "      <td>...</td>\n",
       "      <td>...</td>\n",
       "      <td>...</td>\n",
       "      <td>...</td>\n",
       "      <td>...</td>\n",
       "      <td>...</td>\n",
       "    </tr>\n",
       "    <tr>\n",
       "      <th>9679</th>\n",
       "      <td>Grisaia no Rakuen Specials</td>\n",
       "      <td>Special</td>\n",
       "      <td>7.03</td>\n",
       "      <td>31425</td>\n",
       "      <td>60903</td>\n",
       "      <td>3996</td>\n",
       "      <td>2710</td>\n",
       "      <td>Ecchi</td>\n",
       "      <td>8bit</td>\n",
       "      <td>Short specials included in the Blu-ray and DVD...</td>\n",
       "      <td>https://myanimelist.net/anime/31368/Grisaia_no...</td>\n",
       "      <td>20-11-2023</td>\n",
       "      <td>Top Anime</td>\n",
       "    </tr>\n",
       "    <tr>\n",
       "      <th>9680</th>\n",
       "      <td>Hana no Ko Lunlun</td>\n",
       "      <td>TV</td>\n",
       "      <td>7.03</td>\n",
       "      <td>1707</td>\n",
       "      <td>5705</td>\n",
       "      <td>3997</td>\n",
       "      <td>7781</td>\n",
       "      <td>Adventure, Drama</td>\n",
       "      <td>Toei Animation</td>\n",
       "      <td>The King of the Flower Planet is dying, but hi...</td>\n",
       "      <td>https://myanimelist.net/anime/2230/Hana_no_Ko_...</td>\n",
       "      <td>20-11-2023</td>\n",
       "      <td>Top Anime</td>\n",
       "    </tr>\n",
       "    <tr>\n",
       "      <th>9681</th>\n",
       "      <td>Hayate no Gotoku! Can't Take My Eyes Off You</td>\n",
       "      <td>TV</td>\n",
       "      <td>7.03</td>\n",
       "      <td>26202</td>\n",
       "      <td>56046</td>\n",
       "      <td>3998</td>\n",
       "      <td>2836</td>\n",
       "      <td>Comedy, Harem, Parody, Shounen</td>\n",
       "      <td>Manglobe</td>\n",
       "      <td>Taking place one month after the events that o...</td>\n",
       "      <td>https://myanimelist.net/anime/14653/Hayate_no_...</td>\n",
       "      <td>20-11-2023</td>\n",
       "      <td>Top Anime</td>\n",
       "    </tr>\n",
       "    <tr>\n",
       "      <th>9682</th>\n",
       "      <td>Ichigo Mashimaro Episode 0</td>\n",
       "      <td>Special</td>\n",
       "      <td>7.03</td>\n",
       "      <td>8506</td>\n",
       "      <td>15353</td>\n",
       "      <td>3999</td>\n",
       "      <td>5226</td>\n",
       "      <td>Comedy, CGDCT</td>\n",
       "      <td>Daume</td>\n",
       "      <td>A brief special where the girls pretend to be ...</td>\n",
       "      <td>https://myanimelist.net/anime/4156/Ichigo_Mash...</td>\n",
       "      <td>20-11-2023</td>\n",
       "      <td>Top Anime</td>\n",
       "    </tr>\n",
       "    <tr>\n",
       "      <th>9683</th>\n",
       "      <td>Jashin-chan Dropkick</td>\n",
       "      <td>TV</td>\n",
       "      <td>7.03</td>\n",
       "      <td>42283</td>\n",
       "      <td>120470</td>\n",
       "      <td>4000</td>\n",
       "      <td>1756</td>\n",
       "      <td>Comedy, Supernatural, CGDCT, Gag Humor, Mythology</td>\n",
       "      <td>Nomad</td>\n",
       "      <td>The demon Jashin-chan has been summoned to Ear...</td>\n",
       "      <td>https://myanimelist.net/anime/36906/Jashin-cha...</td>\n",
       "      <td>20-11-2023</td>\n",
       "      <td>Top Anime</td>\n",
       "    </tr>\n",
       "  </tbody>\n",
       "</table>\n",
       "<p>9463 rows × 13 columns</p>\n",
       "</div>"
      ],
      "text/plain": [
       "                                                Title     Type  Score  \\\n",
       "0                                             Berserk    Manga   9.47   \n",
       "1     JoJo no Kimyou na Bouken Part 7: Steel Ball Run    Manga   9.30   \n",
       "2                                            Vagabond    Manga   9.24   \n",
       "3                                           One Piece    Manga   9.22   \n",
       "4                                             Monster    Manga   9.15   \n",
       "...                                               ...      ...    ...   \n",
       "9679                       Grisaia no Rakuen Specials  Special   7.03   \n",
       "9680                                Hana no Ko Lunlun       TV   7.03   \n",
       "9681     Hayate no Gotoku! Can't Take My Eyes Off You       TV   7.03   \n",
       "9682                       Ichigo Mashimaro Episode 0  Special   7.03   \n",
       "9683                             Jashin-chan Dropkick       TV   7.03   \n",
       "\n",
       "      Score Count  Members  Rank  Popularity  \\\n",
       "0          329632   662227     1           1   \n",
       "1          155665   255066     2          26   \n",
       "2          135419   362718     3          15   \n",
       "3          365241   596855     4           3   \n",
       "4           93420   235224     5          29   \n",
       "...           ...      ...   ...         ...   \n",
       "9679        31425    60903  3996        2710   \n",
       "9680         1707     5705  3997        7781   \n",
       "9681        26202    56046  3998        2836   \n",
       "9682         8506    15353  3999        5226   \n",
       "9683        42283   120470  4000        1756   \n",
       "\n",
       "                                                 Genres  \\\n",
       "0     Action, Adventure, Award Winning, Drama, Fanta...   \n",
       "1     Action, Adventure, Mystery, Supernatural, Hist...   \n",
       "2     Action, Adventure, Award Winning, Historical, ...   \n",
       "3                   Action, Adventure, Fantasy, Shounen   \n",
       "4     Award Winning, Drama, Mystery, Adult Cast, Psy...   \n",
       "...                                                 ...   \n",
       "9679                                              Ecchi   \n",
       "9680                                   Adventure, Drama   \n",
       "9681                     Comedy, Harem, Parody, Shounen   \n",
       "9682                                      Comedy, CGDCT   \n",
       "9683  Comedy, Supernatural, CGDCT, Gag Humor, Mythology   \n",
       "\n",
       "                                         Authors/Studio  \\\n",
       "0      Miura, Kentarou (Story & Art), Studio Gaga (Art)   \n",
       "1                         Araki, Hirohiko (Story & Art)   \n",
       "2     Inoue, Takehiko (Story & Art), Yoshikawa, Eiji...   \n",
       "3                           Oda, Eiichiro (Story & Art)   \n",
       "4                          Urasawa, Naoki (Story & Art)   \n",
       "...                                                 ...   \n",
       "9679                                               8bit   \n",
       "9680                                     Toei Animation   \n",
       "9681                                           Manglobe   \n",
       "9682                                              Daume   \n",
       "9683                                              Nomad   \n",
       "\n",
       "                                               Synopsis  \\\n",
       "0     Guts, a former mercenary now known as the \"Bla...   \n",
       "1     In the American Old West, the world's greatest...   \n",
       "2     In 16th-century Japan, Shinmen Takezou is a wi...   \n",
       "3     Gol D. Roger, a man referred to as the \"King o...   \n",
       "4     Kenzou Tenma, a renowned Japanese neurosurgeon...   \n",
       "...                                                 ...   \n",
       "9679  Short specials included in the Blu-ray and DVD...   \n",
       "9680  The King of the Flower Planet is dying, but hi...   \n",
       "9681  Taking place one month after the events that o...   \n",
       "9682  A brief special where the girls pretend to be ...   \n",
       "9683  The demon Jashin-chan has been summoned to Ear...   \n",
       "\n",
       "                                                   Link        Date       Page  \n",
       "0               https://myanimelist.net/manga/2/Berserk  15-11-2023  Top Manga  \n",
       "1     https://myanimelist.net/manga/1706/JoJo_no_Kim...  15-11-2023  Top Manga  \n",
       "2            https://myanimelist.net/manga/656/Vagabond  15-11-2023  Top Manga  \n",
       "3            https://myanimelist.net/manga/13/One_Piece  15-11-2023  Top Manga  \n",
       "4               https://myanimelist.net/manga/1/Monster  15-11-2023  Top Manga  \n",
       "...                                                 ...         ...        ...  \n",
       "9679  https://myanimelist.net/anime/31368/Grisaia_no...  20-11-2023  Top Anime  \n",
       "9680  https://myanimelist.net/anime/2230/Hana_no_Ko_...  20-11-2023  Top Anime  \n",
       "9681  https://myanimelist.net/anime/14653/Hayate_no_...  20-11-2023  Top Anime  \n",
       "9682  https://myanimelist.net/anime/4156/Ichigo_Mash...  20-11-2023  Top Anime  \n",
       "9683  https://myanimelist.net/anime/36906/Jashin-cha...  20-11-2023  Top Anime  \n",
       "\n",
       "[9463 rows x 13 columns]"
      ]
     },
     "execution_count": 4,
     "metadata": {},
     "output_type": "execute_result"
    }
   ],
   "source": [
    "data_set.dropna()"
   ]
  },
  {
   "cell_type": "code",
   "execution_count": 5,
   "metadata": {},
   "outputs": [
    {
     "data": {
      "text/plain": [
       "(9684, 13)"
      ]
     },
     "execution_count": 5,
     "metadata": {},
     "output_type": "execute_result"
    }
   ],
   "source": [
    "data_set.shape"
   ]
  },
  {
   "cell_type": "code",
   "execution_count": 6,
   "metadata": {},
   "outputs": [
    {
     "name": "stdout",
     "output_type": "stream",
     "text": [
      "160\n"
     ]
    }
   ],
   "source": [
    "print(data_set['Synopsis'].isna().sum())\n"
   ]
  },
  {
   "cell_type": "code",
   "execution_count": 7,
   "metadata": {},
   "outputs": [],
   "source": [
    "data_set['Synopsis'] = data_set['Synopsis'].fillna('')\n",
    "data_set['Authors/Studio'] = data_set['Authors/Studio'].fillna('')\n",
    "data_set['Genres'] = data_set['Genres'].fillna('')\n",
    "data_set['Page'] = data_set['Page'].fillna('')\n",
    "data_set['Title'] = data_set['Title'].fillna('')"
   ]
  },
  {
   "cell_type": "code",
   "execution_count": 8,
   "metadata": {},
   "outputs": [
    {
     "name": "stderr",
     "output_type": "stream",
     "text": [
      "[nltk_data] Downloading package stopwords to\n",
      "[nltk_data]     C:\\Users\\hp\\AppData\\Roaming\\nltk_data...\n",
      "[nltk_data]   Package stopwords is already up-to-date!\n"
     ]
    }
   ],
   "source": [
    "import nltk\n",
    "nltk.download('stopwords')\n",
    "from nltk.corpus import stopwords"
   ]
  },
  {
   "cell_type": "code",
   "execution_count": 9,
   "metadata": {},
   "outputs": [],
   "source": [
    "stop_words = stopwords.words('english')\n",
    "data_set['Synopsis'] = data_set['Synopsis'].apply(lambda x: ' '.join([word for word in x.split() if word not in (stop_words)]))"
   ]
  },
  {
   "cell_type": "code",
   "execution_count": 10,
   "metadata": {},
   "outputs": [
    {
     "name": "stdout",
     "output_type": "stream",
     "text": [
      "0       Guts, former mercenary known \"Black Swordsman,...\n",
      "1       In American Old West, world's greatest race be...\n",
      "2       In 16th-century Japan, Shinmen Takezou wild, r...\n",
      "3       Gol D. Roger, man referred \"King Pirates,\" set...\n",
      "4       Kenzou Tenma, renowned Japanese neurosurgeon w...\n",
      "                              ...                        \n",
      "9679        Short specials included Blu-ray DVD releases.\n",
      "9680    The King Flower Planet dying, heir can't take ...\n",
      "9681    Taking place one month events occurred movie H...\n",
      "9682            A brief special girls pretend astronauts.\n",
      "9683    The demon Jashin-chan summoned Earth Yurine Ha...\n",
      "Name: Synopsis, Length: 9684, dtype: object\n"
     ]
    }
   ],
   "source": [
    "print(data_set['Synopsis'])"
   ]
  },
  {
   "cell_type": "code",
   "execution_count": 11,
   "metadata": {},
   "outputs": [],
   "source": [
    "# removing special characters\n",
    "import re\n",
    "\n",
    "pattern = r'[!@#$%^&*(){};:,.<>\\\"|+=~`-]'\n",
    "data_set['Synopsis'] = data_set['Synopsis'].apply(lambda x: re.sub(pattern, '', x) if isinstance(x, str) else '')\n",
    "data_set['Authors/Studio'] = data_set['Authors/Studio'].apply(lambda x: re.sub(pattern, '', x) if isinstance(x, str) else '')\n",
    "data_set['Title'] = data_set['Title'].apply(lambda x: re.sub(pattern, '', x) if isinstance(x, str) else '')\n",
    "data_set['Genres'] = data_set['Genres'].apply(lambda x: re.sub(pattern, '', x) if isinstance(x, str) else '')"
   ]
  },
  {
   "cell_type": "code",
   "execution_count": 12,
   "metadata": {},
   "outputs": [
    {
     "name": "stdout",
     "output_type": "stream",
     "text": [
      "0       Guts former mercenary known Black Swordsman re...\n",
      "1       In American Old West world's greatest race beg...\n",
      "2       In 16thcentury Japan Shinmen Takezou wild roug...\n",
      "3       Gol D Roger man referred King Pirates set exec...\n",
      "4       Kenzou Tenma renowned Japanese neurosurgeon wo...\n",
      "                              ...                        \n",
      "9679          Short specials included Bluray DVD releases\n",
      "9680    The King Flower Planet dying heir can't take t...\n",
      "9681    Taking place one month events occurred movie H...\n",
      "9682             A brief special girls pretend astronauts\n",
      "9683    The demon Jashinchan summoned Earth Yurine Han...\n",
      "Name: Synopsis, Length: 9684, dtype: object\n",
      "0            Miura Kentarou Story  Art Studio Gaga Art\n",
      "1                            Araki Hirohiko Story  Art\n",
      "2       Inoue Takehiko Story  Art Yoshikawa Eiji Story\n",
      "3                              Oda Eiichiro Story  Art\n",
      "4                             Urasawa Naoki Story  Art\n",
      "                             ...                      \n",
      "9679                                              8bit\n",
      "9680                                    Toei Animation\n",
      "9681                                          Manglobe\n",
      "9682                                             Daume\n",
      "9683                                             Nomad\n",
      "Name: Authors/Studio, Length: 9684, dtype: object\n",
      "0                                              Berserk\n",
      "1       JoJo no Kimyou na Bouken Part 7 Steel Ball Run\n",
      "2                                             Vagabond\n",
      "3                                            One Piece\n",
      "4                                              Monster\n",
      "                             ...                      \n",
      "9679                        Grisaia no Rakuen Specials\n",
      "9680                                 Hana no Ko Lunlun\n",
      "9681       Hayate no Gotoku Can't Take My Eyes Off You\n",
      "9682                        Ichigo Mashimaro Episode 0\n",
      "9683                               Jashinchan Dropkick\n",
      "Name: Title, Length: 9684, dtype: object\n",
      "0       Action Adventure Award Winning Drama Fantasy H...\n",
      "1       Action Adventure Mystery Supernatural Historic...\n",
      "2       Action Adventure Award Winning Historical Samu...\n",
      "3                        Action Adventure Fantasy Shounen\n",
      "4       Award Winning Drama Mystery Adult Cast Psychol...\n",
      "                              ...                        \n",
      "9679                                                Ecchi\n",
      "9680                                      Adventure Drama\n",
      "9681                          Comedy Harem Parody Shounen\n",
      "9682                                         Comedy CGDCT\n",
      "9683        Comedy Supernatural CGDCT Gag Humor Mythology\n",
      "Name: Genres, Length: 9684, dtype: object\n"
     ]
    }
   ],
   "source": [
    "print(data_set['Synopsis'])\n",
    "print(data_set['Authors/Studio'])\n",
    "print(data_set['Title'])\n",
    "print(data_set['Genres'])"
   ]
  },
  {
   "cell_type": "code",
   "execution_count": 13,
   "metadata": {},
   "outputs": [
    {
     "name": "stdout",
     "output_type": "stream",
     "text": [
      "Top Manga\n",
      "Top Anime\n"
     ]
    }
   ],
   "source": [
    "type_of_media = data_set['Page'].unique()\n",
    "for i in range(len(type_of_media)):\n",
    "    print(type_of_media[i])"
   ]
  },
  {
   "cell_type": "code",
   "execution_count": 14,
   "metadata": {},
   "outputs": [
    {
     "data": {
      "image/png": "[encoded data removed]",
      "text/plain": [
       "<Figure size 1000x600 with 1 Axes>"
      ]
     },
     "metadata": {},
     "output_type": "display_data"
    }
   ],
   "source": [
    "# bar graph of type of media\n",
    "import matplotlib.pyplot as plt\n",
    "\n",
    "type_of_media_mapping = {'Top Manga': 1, 'Top Anime': 2}\n",
    "type_of_media_counts = data_set['Page'].map(type_of_media_mapping).value_counts()\n",
    "\n",
    "plt.figure(figsize=(10, 6))\n",
    "type_of_media_counts.plot(kind='bar', color='green')\n",
    "plt.xlabel('Type of Media')\n",
    "plt.ylabel('Count')\n",
    "plt.title('Type of Media vs Count')\n",
    "plt.show()"
   ]
  },
  {
   "cell_type": "code",
   "execution_count": 15,
   "metadata": {},
   "outputs": [
    {
     "data": {
      "image/png": "[encoded data removed]",
      "text/plain": [
       "<Figure size 1000x600 with 1 Axes>"
      ]
     },
     "metadata": {},
     "output_type": "display_data"
    }
   ],
   "source": [
    "# scatter plot of type of media\n",
    "import matplotlib.pyplot as plt\n",
    "\n",
    "type_of_media_mapping = {'Top Manga': 1, 'Top Anime': 2}\n",
    "type_of_media_counts = data_set['Page'].map(type_of_media_mapping).value_counts()\n",
    "\n",
    "plt.figure(figsize=(10, 6))\n",
    "plt.scatter(type_of_media_counts.index, type_of_media_counts.values, color='green')\n",
    "plt.xlabel('Type of Media')\n",
    "plt.ylabel('Count')\n",
    "plt.title('Type of Media vs Count')\n",
    "plt.xticks(list(type_of_media_mapping.values()), list(type_of_media_mapping.keys()), rotation='vertical')\n",
    "plt.show()"
   ]
  },
  {
   "cell_type": "code",
   "execution_count": 16,
   "metadata": {},
   "outputs": [
    {
     "data": {
      "image/png": "[encoded data removed]",
      "text/plain": [
       "<Figure size 1000x600 with 1 Axes>"
      ]
     },
     "metadata": {},
     "output_type": "display_data"
    }
   ],
   "source": [
    "# histogram graph of type of media\n",
    "import matplotlib.pyplot as plt\n",
    "\n",
    "type_of_media_mapping = {'Top Manga': 1, 'Top Anime': 2}\n",
    "type_of_media_counts = data_set['Page'].map(type_of_media_mapping)\n",
    "\n",
    "plt.figure(figsize=(10, 6))\n",
    "plt.hist(type_of_media_counts, bins=len(type_of_media_mapping), color='green')\n",
    "plt.xlabel('Type of Media')\n",
    "plt.ylabel('Count')\n",
    "plt.title('Distribution of Type of Media')\n",
    "plt.xticks(list(type_of_media_mapping.values()), list(type_of_media_mapping.keys()), rotation='vertical')\n",
    "plt.show()"
   ]
  },
  {
   "cell_type": "code",
   "execution_count": 17,
   "metadata": {},
   "outputs": [
    {
     "name": "stdout",
     "output_type": "stream",
     "text": [
      "  (0, 341)\t0.09950371902099892\n",
      "  (0, 1657)\t-0.09950371902099892\n",
      "  (0, 1849)\t-0.09950371902099892\n",
      "  (0, 1966)\t0.09950371902099892\n",
      "  (0, 2579)\t0.09950371902099892\n",
      "  (0, 2813)\t0.09950371902099892\n",
      "  (0, 3201)\t0.09950371902099892\n",
      "  (0, 3973)\t0.09950371902099892\n",
      "  (0, 4892)\t0.09950371902099892\n",
      "  (0, 6599)\t-0.09950371902099892\n",
      "  (0, 8204)\t-0.09950371902099892\n",
      "  (0, 9034)\t0.09950371902099892\n",
      "  (0, 10356)\t-0.09950371902099892\n",
      "  (0, 11060)\t-0.09950371902099892\n",
      "  (0, 12511)\t0.09950371902099892\n",
      "  (0, 13082)\t0.09950371902099892\n",
      "  (0, 16767)\t-0.09950371902099892\n",
      "  (0, 17420)\t-0.09950371902099892\n",
      "  (0, 17700)\t0.09950371902099892\n",
      "  (0, 18372)\t0.19900743804199783\n",
      "  (0, 18718)\t-0.09950371902099892\n",
      "  (0, 18970)\t0.09950371902099892\n",
      "  (0, 20780)\t0.09950371902099892\n",
      "  (0, 20803)\t0.09950371902099892\n",
      "  (0, 21764)\t-0.19900743804199783\n",
      "  :\t:\n",
      "  (9683, 45574)\t0.08084520834544433\n",
      "  (9683, 47421)\t-0.08084520834544433\n",
      "  (9683, 48725)\t-0.08084520834544433\n",
      "  (9683, 48952)\t0.08084520834544433\n",
      "  (9683, 48977)\t0.08084520834544433\n",
      "  (9683, 49035)\t-0.08084520834544433\n",
      "  (9683, 50689)\t-0.08084520834544433\n",
      "  (9683, 51335)\t-0.08084520834544433\n",
      "  (9683, 51518)\t0.08084520834544433\n",
      "  (9683, 52295)\t0.16169041669088866\n",
      "  (9683, 55317)\t-0.40422604172722165\n",
      "  (9683, 55871)\t-0.08084520834544433\n",
      "  (9683, 56992)\t0.08084520834544433\n",
      "  (9683, 57701)\t0.08084520834544433\n",
      "  (9683, 57841)\t-0.08084520834544433\n",
      "  (9683, 58411)\t0.08084520834544433\n",
      "  (9683, 59729)\t-0.08084520834544433\n",
      "  (9683, 60069)\t-0.08084520834544433\n",
      "  (9683, 60641)\t0.08084520834544433\n",
      "  (9683, 61061)\t-0.08084520834544433\n",
      "  (9683, 63403)\t-0.16169041669088866\n",
      "  (9683, 63727)\t-0.08084520834544433\n",
      "  (9683, 64273)\t-0.08084520834544433\n",
      "  (9683, 64649)\t0.08084520834544433\n",
      "  (9683, 65453)\t0.08084520834544433\n"
     ]
    }
   ],
   "source": [
    "from sklearn.feature_extraction.text import HashingVectorizer\n",
    "\n",
    "hash_vectorizer = HashingVectorizer(n_features=2**16)\n",
    "hash_matrix = hash_vectorizer.fit_transform(data_set['Synopsis'])\n",
    "\n",
    "\n",
    "y = data_set['Page']\n",
    "print(hash_matrix)"
   ]
  },
  {
   "cell_type": "code",
   "execution_count": 18,
   "metadata": {},
   "outputs": [
    {
     "data": {
      "text/html": [
       "<style>#sk-container-id-1 {color: black;}#sk-container-id-1 pre{padding: 0;}#sk-container-id-1 div.sk-toggleable {background-color: white;}#sk-container-id-1 label.sk-toggleable__label {cursor: pointer;display: block;width: 100%;margin-bottom: 0;padding: 0.3em;box-sizing: border-box;text-align: center;}#sk-container-id-1 label.sk-toggleable__label-arrow:before {content: \"▸\";float: left;margin-right: 0.25em;color: #696969;}#sk-container-id-1 label.sk-toggleable__label-arrow:hover:before {color: black;}#sk-container-id-1 div.sk-estimator:hover label.sk-toggleable__label-arrow:before {color: black;}#sk-container-id-1 div.sk-toggleable__content {max-height: 0;max-width: 0;overflow: hidden;text-align: left;background-color: #f0f8ff;}#sk-container-id-1 div.sk-toggleable__content pre {margin: 0.2em;color: black;border-radius: 0.25em;background-color: #f0f8ff;}#sk-container-id-1 input.sk-toggleable__control:checked~div.sk-toggleable__content {max-height: 200px;max-width: 100%;overflow: auto;}#sk-container-id-1 input.sk-toggleable__control:checked~label.sk-toggleable__label-arrow:before {content: \"▾\";}#sk-container-id-1 div.sk-estimator input.sk-toggleable__control:checked~label.sk-toggleable__label {background-color: #d4ebff;}#sk-container-id-1 div.sk-label input.sk-toggleable__control:checked~label.sk-toggleable__label {background-color: #d4ebff;}#sk-container-id-1 input.sk-hidden--visually {border: 0;clip: rect(1px 1px 1px 1px);clip: rect(1px, 1px, 1px, 1px);height: 1px;margin: -1px;overflow: hidden;padding: 0;position: absolute;width: 1px;}#sk-container-id-1 div.sk-estimator {font-family: monospace;background-color: #f0f8ff;border: 1px dotted black;border-radius: 0.25em;box-sizing: border-box;margin-bottom: 0.5em;}#sk-container-id-1 div.sk-estimator:hover {background-color: #d4ebff;}#sk-container-id-1 div.sk-parallel-item::after {content: \"\";width: 100%;border-bottom: 1px solid gray;flex-grow: 1;}#sk-container-id-1 div.sk-label:hover label.sk-toggleable__label {background-color: #d4ebff;}#sk-container-id-1 div.sk-serial::before {content: \"\";position: absolute;border-left: 1px solid gray;box-sizing: border-box;top: 0;bottom: 0;left: 50%;z-index: 0;}#sk-container-id-1 div.sk-serial {display: flex;flex-direction: column;align-items: center;background-color: white;padding-right: 0.2em;padding-left: 0.2em;position: relative;}#sk-container-id-1 div.sk-item {position: relative;z-index: 1;}#sk-container-id-1 div.sk-parallel {display: flex;align-items: stretch;justify-content: center;background-color: white;position: relative;}#sk-container-id-1 div.sk-item::before, #sk-container-id-1 div.sk-parallel-item::before {content: \"\";position: absolute;border-left: 1px solid gray;box-sizing: border-box;top: 0;bottom: 0;left: 50%;z-index: -1;}#sk-container-id-1 div.sk-parallel-item {display: flex;flex-direction: column;z-index: 1;position: relative;background-color: white;}#sk-container-id-1 div.sk-parallel-item:first-child::after {align-self: flex-end;width: 50%;}#sk-container-id-1 div.sk-parallel-item:last-child::after {align-self: flex-start;width: 50%;}#sk-container-id-1 div.sk-parallel-item:only-child::after {width: 0;}#sk-container-id-1 div.sk-dashed-wrapped {border: 1px dashed gray;margin: 0 0.4em 0.5em 0.4em;box-sizing: border-box;padding-bottom: 0.4em;background-color: white;}#sk-container-id-1 div.sk-label label {font-family: monospace;font-weight: bold;display: inline-block;line-height: 1.2em;}#sk-container-id-1 div.sk-label-container {text-align: center;}#sk-container-id-1 div.sk-container {/* jupyter's `normalize.less` sets `[hidden] { display: none; }` but bootstrap.min.css set `[hidden] { display: none !important; }` so we also need the `!important` here to be able to override the default hidden behavior on the sphinx rendered scikit-learn.org. See: https://github.com/scikit-learn/scikit-learn/issues/21755 */display: inline-block !important;position: relative;}#sk-container-id-1 div.sk-text-repr-fallback {display: none;}</style><div id=\"sk-container-id-1\" class=\"sk-top-container\"><div class=\"sk-text-repr-fallback\"><pre>LogisticRegression(max_iter=1000)</pre><b>In a Jupyter environment, please rerun this cell to show the HTML representation or trust the notebook. <br />On GitHub, the HTML representation is unable to render, please try loading this page with nbviewer.org.</b></div><div class=\"sk-container\" hidden><div class=\"sk-item\"><div class=\"sk-estimator sk-toggleable\"><input class=\"sk-toggleable__control sk-hidden--visually\" id=\"sk-estimator-id-1\" type=\"checkbox\" checked><label for=\"sk-estimator-id-1\" class=\"sk-toggleable__label sk-toggleable__label-arrow\">LogisticRegression</label><div class=\"sk-toggleable__content\"><pre>LogisticRegression(max_iter=1000)</pre></div></div></div></div></div>"
      ],
      "text/plain": [
       "LogisticRegression(max_iter=1000)"
      ]
     },
     "execution_count": 18,
     "metadata": {},
     "output_type": "execute_result"
    }
   ],
   "source": [
    "#Classification LAgorithm 1\n",
    "from sklearn.linear_model import LogisticRegression\n",
    "from sklearn.metrics import classification_report\n",
    "from sklearn.model_selection import train_test_split\n",
    "\n",
    "x_train, x_test, y_train, y_test = train_test_split(hash_matrix, y, test_size=0.2, random_state=42)\n",
    "\n",
    "logistic_regression = LogisticRegression(max_iter=1000)\n",
    "logistic_regression.fit(x_train, y_train)\n"
   ]
  },
  {
   "cell_type": "code",
   "execution_count": 19,
   "metadata": {},
   "outputs": [
    {
     "name": "stdout",
     "output_type": "stream",
     "text": [
      "              precision    recall  f1-score   support\n",
      "\n",
      "   Top Anime       0.74      0.71      0.72       781\n",
      "   Top Manga       0.81      0.83      0.82      1156\n",
      "\n",
      "    accuracy                           0.78      1937\n",
      "   macro avg       0.77      0.77      0.77      1937\n",
      "weighted avg       0.78      0.78      0.78      1937\n",
      "\n"
     ]
    }
   ],
   "source": [
    "# classification report of logistic model\n",
    "y_pred = logistic_regression.predict(x_test)\n",
    "logistic_regression_report = classification_report(y_test, y_pred, zero_division=1)\n",
    "print(logistic_regression_report)"
   ]
  },
  {
   "cell_type": "code",
   "execution_count": 20,
   "metadata": {},
   "outputs": [
    {
     "data": {
      "text/html": [
       "<style>#sk-container-id-2 {color: black;}#sk-container-id-2 pre{padding: 0;}#sk-container-id-2 div.sk-toggleable {background-color: white;}#sk-container-id-2 label.sk-toggleable__label {cursor: pointer;display: block;width: 100%;margin-bottom: 0;padding: 0.3em;box-sizing: border-box;text-align: center;}#sk-container-id-2 label.sk-toggleable__label-arrow:before {content: \"▸\";float: left;margin-right: 0.25em;color: #696969;}#sk-container-id-2 label.sk-toggleable__label-arrow:hover:before {color: black;}#sk-container-id-2 div.sk-estimator:hover label.sk-toggleable__label-arrow:before {color: black;}#sk-container-id-2 div.sk-toggleable__content {max-height: 0;max-width: 0;overflow: hidden;text-align: left;background-color: #f0f8ff;}#sk-container-id-2 div.sk-toggleable__content pre {margin: 0.2em;color: black;border-radius: 0.25em;background-color: #f0f8ff;}#sk-container-id-2 input.sk-toggleable__control:checked~div.sk-toggleable__content {max-height: 200px;max-width: 100%;overflow: auto;}#sk-container-id-2 input.sk-toggleable__control:checked~label.sk-toggleable__label-arrow:before {content: \"▾\";}#sk-container-id-2 div.sk-estimator input.sk-toggleable__control:checked~label.sk-toggleable__label {background-color: #d4ebff;}#sk-container-id-2 div.sk-label input.sk-toggleable__control:checked~label.sk-toggleable__label {background-color: #d4ebff;}#sk-container-id-2 input.sk-hidden--visually {border: 0;clip: rect(1px 1px 1px 1px);clip: rect(1px, 1px, 1px, 1px);height: 1px;margin: -1px;overflow: hidden;padding: 0;position: absolute;width: 1px;}#sk-container-id-2 div.sk-estimator {font-family: monospace;background-color: #f0f8ff;border: 1px dotted black;border-radius: 0.25em;box-sizing: border-box;margin-bottom: 0.5em;}#sk-container-id-2 div.sk-estimator:hover {background-color: #d4ebff;}#sk-container-id-2 div.sk-parallel-item::after {content: \"\";width: 100%;border-bottom: 1px solid gray;flex-grow: 1;}#sk-container-id-2 div.sk-label:hover label.sk-toggleable__label {background-color: #d4ebff;}#sk-container-id-2 div.sk-serial::before {content: \"\";position: absolute;border-left: 1px solid gray;box-sizing: border-box;top: 0;bottom: 0;left: 50%;z-index: 0;}#sk-container-id-2 div.sk-serial {display: flex;flex-direction: column;align-items: center;background-color: white;padding-right: 0.2em;padding-left: 0.2em;position: relative;}#sk-container-id-2 div.sk-item {position: relative;z-index: 1;}#sk-container-id-2 div.sk-parallel {display: flex;align-items: stretch;justify-content: center;background-color: white;position: relative;}#sk-container-id-2 div.sk-item::before, #sk-container-id-2 div.sk-parallel-item::before {content: \"\";position: absolute;border-left: 1px solid gray;box-sizing: border-box;top: 0;bottom: 0;left: 50%;z-index: -1;}#sk-container-id-2 div.sk-parallel-item {display: flex;flex-direction: column;z-index: 1;position: relative;background-color: white;}#sk-container-id-2 div.sk-parallel-item:first-child::after {align-self: flex-end;width: 50%;}#sk-container-id-2 div.sk-parallel-item:last-child::after {align-self: flex-start;width: 50%;}#sk-container-id-2 div.sk-parallel-item:only-child::after {width: 0;}#sk-container-id-2 div.sk-dashed-wrapped {border: 1px dashed gray;margin: 0 0.4em 0.5em 0.4em;box-sizing: border-box;padding-bottom: 0.4em;background-color: white;}#sk-container-id-2 div.sk-label label {font-family: monospace;font-weight: bold;display: inline-block;line-height: 1.2em;}#sk-container-id-2 div.sk-label-container {text-align: center;}#sk-container-id-2 div.sk-container {/* jupyter's `normalize.less` sets `[hidden] { display: none; }` but bootstrap.min.css set `[hidden] { display: none !important; }` so we also need the `!important` here to be able to override the default hidden behavior on the sphinx rendered scikit-learn.org. See: https://github.com/scikit-learn/scikit-learn/issues/21755 */display: inline-block !important;position: relative;}#sk-container-id-2 div.sk-text-repr-fallback {display: none;}</style><div id=\"sk-container-id-2\" class=\"sk-top-container\"><div class=\"sk-text-repr-fallback\"><pre>DecisionTreeClassifier()</pre><b>In a Jupyter environment, please rerun this cell to show the HTML representation or trust the notebook. <br />On GitHub, the HTML representation is unable to render, please try loading this page with nbviewer.org.</b></div><div class=\"sk-container\" hidden><div class=\"sk-item\"><div class=\"sk-estimator sk-toggleable\"><input class=\"sk-toggleable__control sk-hidden--visually\" id=\"sk-estimator-id-2\" type=\"checkbox\" checked><label for=\"sk-estimator-id-2\" class=\"sk-toggleable__label sk-toggleable__label-arrow\">DecisionTreeClassifier</label><div class=\"sk-toggleable__content\"><pre>DecisionTreeClassifier()</pre></div></div></div></div></div>"
      ],
      "text/plain": [
       "DecisionTreeClassifier()"
      ]
     },
     "execution_count": 20,
     "metadata": {},
     "output_type": "execute_result"
    }
   ],
   "source": [
    "# desicion tree\n",
    "from sklearn.tree import DecisionTreeClassifier\n",
    "\n",
    "# Split the data\n",
    "x_train, x_test, y_train, y_test = train_test_split(hash_matrix, y, test_size=0.2, random_state=42)\n",
    "\n",
    "# Create and train the model\n",
    "decision_tree = DecisionTreeClassifier()\n",
    "decision_tree.fit(x_train, y_train)"
   ]
  },
  {
   "cell_type": "code",
   "execution_count": 21,
   "metadata": {},
   "outputs": [
    {
     "name": "stdout",
     "output_type": "stream",
     "text": [
      "              precision    recall  f1-score   support\n",
      "\n",
      "   Top Anime       0.66      0.71      0.68       781\n",
      "   Top Manga       0.79      0.76      0.78      1156\n",
      "\n",
      "    accuracy                           0.74      1937\n",
      "   macro avg       0.73      0.73      0.73      1937\n",
      "weighted avg       0.74      0.74      0.74      1937\n",
      "\n"
     ]
    }
   ],
   "source": [
    "# calssification report of decision tree\n",
    "y_pred_dt = decision_tree.predict(x_test)\n",
    "\n",
    "# Evaluate and print the classification report\n",
    "decision_tree_report = classification_report(y_test, y_pred_dt, zero_division=1)\n",
    "print(decision_tree_report)\n"
   ]
  },
  {
   "cell_type": "code",
   "execution_count": 22,
   "metadata": {},
   "outputs": [
    {
     "data": {
      "text/html": [
       "<style>#sk-container-id-3 {color: black;}#sk-container-id-3 pre{padding: 0;}#sk-container-id-3 div.sk-toggleable {background-color: white;}#sk-container-id-3 label.sk-toggleable__label {cursor: pointer;display: block;width: 100%;margin-bottom: 0;padding: 0.3em;box-sizing: border-box;text-align: center;}#sk-container-id-3 label.sk-toggleable__label-arrow:before {content: \"▸\";float: left;margin-right: 0.25em;color: #696969;}#sk-container-id-3 label.sk-toggleable__label-arrow:hover:before {color: black;}#sk-container-id-3 div.sk-estimator:hover label.sk-toggleable__label-arrow:before {color: black;}#sk-container-id-3 div.sk-toggleable__content {max-height: 0;max-width: 0;overflow: hidden;text-align: left;background-color: #f0f8ff;}#sk-container-id-3 div.sk-toggleable__content pre {margin: 0.2em;color: black;border-radius: 0.25em;background-color: #f0f8ff;}#sk-container-id-3 input.sk-toggleable__control:checked~div.sk-toggleable__content {max-height: 200px;max-width: 100%;overflow: auto;}#sk-container-id-3 input.sk-toggleable__control:checked~label.sk-toggleable__label-arrow:before {content: \"▾\";}#sk-container-id-3 div.sk-estimator input.sk-toggleable__control:checked~label.sk-toggleable__label {background-color: #d4ebff;}#sk-container-id-3 div.sk-label input.sk-toggleable__control:checked~label.sk-toggleable__label {background-color: #d4ebff;}#sk-container-id-3 input.sk-hidden--visually {border: 0;clip: rect(1px 1px 1px 1px);clip: rect(1px, 1px, 1px, 1px);height: 1px;margin: -1px;overflow: hidden;padding: 0;position: absolute;width: 1px;}#sk-container-id-3 div.sk-estimator {font-family: monospace;background-color: #f0f8ff;border: 1px dotted black;border-radius: 0.25em;box-sizing: border-box;margin-bottom: 0.5em;}#sk-container-id-3 div.sk-estimator:hover {background-color: #d4ebff;}#sk-container-id-3 div.sk-parallel-item::after {content: \"\";width: 100%;border-bottom: 1px solid gray;flex-grow: 1;}#sk-container-id-3 div.sk-label:hover label.sk-toggleable__label {background-color: #d4ebff;}#sk-container-id-3 div.sk-serial::before {content: \"\";position: absolute;border-left: 1px solid gray;box-sizing: border-box;top: 0;bottom: 0;left: 50%;z-index: 0;}#sk-container-id-3 div.sk-serial {display: flex;flex-direction: column;align-items: center;background-color: white;padding-right: 0.2em;padding-left: 0.2em;position: relative;}#sk-container-id-3 div.sk-item {position: relative;z-index: 1;}#sk-container-id-3 div.sk-parallel {display: flex;align-items: stretch;justify-content: center;background-color: white;position: relative;}#sk-container-id-3 div.sk-item::before, #sk-container-id-3 div.sk-parallel-item::before {content: \"\";position: absolute;border-left: 1px solid gray;box-sizing: border-box;top: 0;bottom: 0;left: 50%;z-index: -1;}#sk-container-id-3 div.sk-parallel-item {display: flex;flex-direction: column;z-index: 1;position: relative;background-color: white;}#sk-container-id-3 div.sk-parallel-item:first-child::after {align-self: flex-end;width: 50%;}#sk-container-id-3 div.sk-parallel-item:last-child::after {align-self: flex-start;width: 50%;}#sk-container-id-3 div.sk-parallel-item:only-child::after {width: 0;}#sk-container-id-3 div.sk-dashed-wrapped {border: 1px dashed gray;margin: 0 0.4em 0.5em 0.4em;box-sizing: border-box;padding-bottom: 0.4em;background-color: white;}#sk-container-id-3 div.sk-label label {font-family: monospace;font-weight: bold;display: inline-block;line-height: 1.2em;}#sk-container-id-3 div.sk-label-container {text-align: center;}#sk-container-id-3 div.sk-container {/* jupyter's `normalize.less` sets `[hidden] { display: none; }` but bootstrap.min.css set `[hidden] { display: none !important; }` so we also need the `!important` here to be able to override the default hidden behavior on the sphinx rendered scikit-learn.org. See: https://github.com/scikit-learn/scikit-learn/issues/21755 */display: inline-block !important;position: relative;}#sk-container-id-3 div.sk-text-repr-fallback {display: none;}</style><div id=\"sk-container-id-3\" class=\"sk-top-container\"><div class=\"sk-text-repr-fallback\"><pre>RandomForestClassifier()</pre><b>In a Jupyter environment, please rerun this cell to show the HTML representation or trust the notebook. <br />On GitHub, the HTML representation is unable to render, please try loading this page with nbviewer.org.</b></div><div class=\"sk-container\" hidden><div class=\"sk-item\"><div class=\"sk-estimator sk-toggleable\"><input class=\"sk-toggleable__control sk-hidden--visually\" id=\"sk-estimator-id-3\" type=\"checkbox\" checked><label for=\"sk-estimator-id-3\" class=\"sk-toggleable__label sk-toggleable__label-arrow\">RandomForestClassifier</label><div class=\"sk-toggleable__content\"><pre>RandomForestClassifier()</pre></div></div></div></div></div>"
      ],
      "text/plain": [
       "RandomForestClassifier()"
      ]
     },
     "execution_count": 22,
     "metadata": {},
     "output_type": "execute_result"
    }
   ],
   "source": [
    "# Random Forest\n",
    "from sklearn.ensemble import RandomForestClassifier\n",
    "\n",
    "# Split the data\n",
    "x_train, x_test, y_train, y_test = train_test_split(hash_matrix, y, test_size=0.2, random_state=42)\n",
    "\n",
    "# Create and train the model\n",
    "random_forest = RandomForestClassifier()\n",
    "random_forest.fit(x_train, y_train)\n"
   ]
  },
  {
   "cell_type": "code",
   "execution_count": 23,
   "metadata": {},
   "outputs": [
    {
     "name": "stdout",
     "output_type": "stream",
     "text": [
      "              precision    recall  f1-score   support\n",
      "\n",
      "   Top Anime       0.72      0.70      0.71       781\n",
      "   Top Manga       0.80      0.81      0.81      1156\n",
      "\n",
      "    accuracy                           0.77      1937\n",
      "   macro avg       0.76      0.76      0.76      1937\n",
      "weighted avg       0.77      0.77      0.77      1937\n",
      "\n"
     ]
    }
   ],
   "source": [
    "# classification report of random forest\n",
    "y_pred_rf = random_forest.predict(x_test)\n",
    "\n",
    "# Evaluate and print the classification report\n",
    "random_forest_report = classification_report(y_test, y_pred_rf, zero_division=1)\n",
    "print(random_forest_report)"
   ]
  },
  {
   "cell_type": "code",
   "execution_count": 24,
   "metadata": {},
   "outputs": [
    {
     "data": {
      "text/html": [
       "<style>#sk-container-id-4 {color: black;}#sk-container-id-4 pre{padding: 0;}#sk-container-id-4 div.sk-toggleable {background-color: white;}#sk-container-id-4 label.sk-toggleable__label {cursor: pointer;display: block;width: 100%;margin-bottom: 0;padding: 0.3em;box-sizing: border-box;text-align: center;}#sk-container-id-4 label.sk-toggleable__label-arrow:before {content: \"▸\";float: left;margin-right: 0.25em;color: #696969;}#sk-container-id-4 label.sk-toggleable__label-arrow:hover:before {color: black;}#sk-container-id-4 div.sk-estimator:hover label.sk-toggleable__label-arrow:before {color: black;}#sk-container-id-4 div.sk-toggleable__content {max-height: 0;max-width: 0;overflow: hidden;text-align: left;background-color: #f0f8ff;}#sk-container-id-4 div.sk-toggleable__content pre {margin: 0.2em;color: black;border-radius: 0.25em;background-color: #f0f8ff;}#sk-container-id-4 input.sk-toggleable__control:checked~div.sk-toggleable__content {max-height: 200px;max-width: 100%;overflow: auto;}#sk-container-id-4 input.sk-toggleable__control:checked~label.sk-toggleable__label-arrow:before {content: \"▾\";}#sk-container-id-4 div.sk-estimator input.sk-toggleable__control:checked~label.sk-toggleable__label {background-color: #d4ebff;}#sk-container-id-4 div.sk-label input.sk-toggleable__control:checked~label.sk-toggleable__label {background-color: #d4ebff;}#sk-container-id-4 input.sk-hidden--visually {border: 0;clip: rect(1px 1px 1px 1px);clip: rect(1px, 1px, 1px, 1px);height: 1px;margin: -1px;overflow: hidden;padding: 0;position: absolute;width: 1px;}#sk-container-id-4 div.sk-estimator {font-family: monospace;background-color: #f0f8ff;border: 1px dotted black;border-radius: 0.25em;box-sizing: border-box;margin-bottom: 0.5em;}#sk-container-id-4 div.sk-estimator:hover {background-color: #d4ebff;}#sk-container-id-4 div.sk-parallel-item::after {content: \"\";width: 100%;border-bottom: 1px solid gray;flex-grow: 1;}#sk-container-id-4 div.sk-label:hover label.sk-toggleable__label {background-color: #d4ebff;}#sk-container-id-4 div.sk-serial::before {content: \"\";position: absolute;border-left: 1px solid gray;box-sizing: border-box;top: 0;bottom: 0;left: 50%;z-index: 0;}#sk-container-id-4 div.sk-serial {display: flex;flex-direction: column;align-items: center;background-color: white;padding-right: 0.2em;padding-left: 0.2em;position: relative;}#sk-container-id-4 div.sk-item {position: relative;z-index: 1;}#sk-container-id-4 div.sk-parallel {display: flex;align-items: stretch;justify-content: center;background-color: white;position: relative;}#sk-container-id-4 div.sk-item::before, #sk-container-id-4 div.sk-parallel-item::before {content: \"\";position: absolute;border-left: 1px solid gray;box-sizing: border-box;top: 0;bottom: 0;left: 50%;z-index: -1;}#sk-container-id-4 div.sk-parallel-item {display: flex;flex-direction: column;z-index: 1;position: relative;background-color: white;}#sk-container-id-4 div.sk-parallel-item:first-child::after {align-self: flex-end;width: 50%;}#sk-container-id-4 div.sk-parallel-item:last-child::after {align-self: flex-start;width: 50%;}#sk-container-id-4 div.sk-parallel-item:only-child::after {width: 0;}#sk-container-id-4 div.sk-dashed-wrapped {border: 1px dashed gray;margin: 0 0.4em 0.5em 0.4em;box-sizing: border-box;padding-bottom: 0.4em;background-color: white;}#sk-container-id-4 div.sk-label label {font-family: monospace;font-weight: bold;display: inline-block;line-height: 1.2em;}#sk-container-id-4 div.sk-label-container {text-align: center;}#sk-container-id-4 div.sk-container {/* jupyter's `normalize.less` sets `[hidden] { display: none; }` but bootstrap.min.css set `[hidden] { display: none !important; }` so we also need the `!important` here to be able to override the default hidden behavior on the sphinx rendered scikit-learn.org. See: https://github.com/scikit-learn/scikit-learn/issues/21755 */display: inline-block !important;position: relative;}#sk-container-id-4 div.sk-text-repr-fallback {display: none;}</style><div id=\"sk-container-id-4\" class=\"sk-top-container\"><div class=\"sk-text-repr-fallback\"><pre>SVC()</pre><b>In a Jupyter environment, please rerun this cell to show the HTML representation or trust the notebook. <br />On GitHub, the HTML representation is unable to render, please try loading this page with nbviewer.org.</b></div><div class=\"sk-container\" hidden><div class=\"sk-item\"><div class=\"sk-estimator sk-toggleable\"><input class=\"sk-toggleable__control sk-hidden--visually\" id=\"sk-estimator-id-4\" type=\"checkbox\" checked><label for=\"sk-estimator-id-4\" class=\"sk-toggleable__label sk-toggleable__label-arrow\">SVC</label><div class=\"sk-toggleable__content\"><pre>SVC()</pre></div></div></div></div></div>"
      ],
      "text/plain": [
       "SVC()"
      ]
     },
     "execution_count": 24,
     "metadata": {},
     "output_type": "execute_result"
    }
   ],
   "source": [
    "#support vector machine svm\n",
    "from sklearn.svm import SVC\n",
    "\n",
    "# Split the data\n",
    "x_train, x_test, y_train, y_test = train_test_split(hash_matrix, y, test_size=0.2, random_state=42)\n",
    "\n",
    "# Create and train the model\n",
    "svm_classifier = SVC()\n",
    "svm_classifier.fit(x_train, y_train)"
   ]
  },
  {
   "cell_type": "code",
   "execution_count": 25,
   "metadata": {},
   "outputs": [
    {
     "name": "stdout",
     "output_type": "stream",
     "text": [
      "              precision    recall  f1-score   support\n",
      "\n",
      "   Top Anime       0.71      0.73      0.72       781\n",
      "   Top Manga       0.82      0.80      0.81      1156\n",
      "\n",
      "    accuracy                           0.77      1937\n",
      "   macro avg       0.76      0.77      0.76      1937\n",
      "weighted avg       0.77      0.77      0.77      1937\n",
      "\n"
     ]
    }
   ],
   "source": [
    "# support vector machines classification report\n",
    "y_pred_svm = svm_classifier.predict(x_test)\n",
    "\n",
    "# Evaluate and print the classification report\n",
    "svm_report = classification_report(y_test, y_pred_svm, zero_division=1)\n",
    "print(svm_report)\n"
   ]
  }
 ],
 "metadata": {
  "kernelspec": {
   "display_name": "base",
   "language": "python",
   "name": "python3"
  },
  "language_info": {
   "codemirror_mode": {
    "name": "ipython",
    "version": 3
   },
   "file_extension": ".py",
   "mimetype": "text/x-python",
   "name": "python",
   "nbconvert_exporter": "python",
   "pygments_lexer": "ipython3",
   "version": "3.11.4"
  }
 },
 "nbformat": 4,
 "nbformat_minor": 2
}
